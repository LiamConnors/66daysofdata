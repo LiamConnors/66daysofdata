{
 "cells": [
  {
   "cell_type": "code",
   "execution_count": 14,
   "metadata": {},
   "outputs": [],
   "source": [
    "import requests\n",
    "import xmltodict\n",
    "import pandas as pd\n",
    "\n",
    "# Information on Met Éireann API at:\n",
    "# https://data.gov.ie/dataset/met-eireann-weather-forecast-api/resource/027da6d5-d819-48d1-9b16-331dba169bd1\n",
    "\n",
    "# URL for Met Éireann 3 day forecast\n",
    "weather = \"https://www.met.ie/Open_Data/xml/web-3Dayforecast.xml\"\n",
    "\n",
    "# Request to get the data, parse with XML to Dict\n",
    "three_day_forecast =  requests.get(weather)\n",
    "three_day_forecast = xmltodict.parse(three_day_forecast.text)\n",
    "three_day_forecast = three_day_forecast['forecast']['station']\n",
    "\n",
    "\n",
    "# For each city, I create each of the three dates as a dictionary. And then return the three rows as a dataframe\n",
    "def get_data_by_day(city):\n",
    "    data= []\n",
    "    for x in city['day']:\n",
    "        data.append({\"location\": city[\"location\"], \"day\": x['date'], \"min\": x['min_temp'], \"max\": x['max_temp']})\n",
    "    y = pd.DataFrame(data)\n",
    "    return y\n",
    "\n",
    "# Function takes all the data and breaks it down by city, eventually returns a list of dataframes\n",
    "def get_cities(data):\n",
    "    list_of_dfs = []\n",
    "    for x in data:        \n",
    "        list_of_dfs.append(get_data_by_day(x))\n",
    "    return list_of_dfs"
   ]
  },
  {
   "cell_type": "code",
   "execution_count": 15,
   "metadata": {},
   "outputs": [],
   "source": [
    "all_data = get_cities(three_day_forecast)"
   ]
  },
  {
   "cell_type": "code",
   "execution_count": 16,
   "metadata": {},
   "outputs": [],
   "source": [
    "# concats all the dataframes\n",
    "all_data = pd.concat(all_data, ignore_index =True, axis=0)"
   ]
  },
  {
   "cell_type": "code",
   "execution_count": 18,
   "metadata": {},
   "outputs": [
    {
     "name": "stdout",
     "output_type": "stream",
     "text": [
      "<class 'pandas.core.frame.DataFrame'>\n",
      "RangeIndex: 27 entries, 0 to 26\n",
      "Data columns (total 4 columns):\n",
      " #   Column    Non-Null Count  Dtype \n",
      "---  ------    --------------  ----- \n",
      " 0   location  27 non-null     object\n",
      " 1   day       27 non-null     object\n",
      " 2   min       27 non-null     object\n",
      " 3   max       27 non-null     object\n",
      "dtypes: object(4)\n",
      "memory usage: 992.0+ bytes\n"
     ]
    }
   ],
   "source": [
    "all_data.info()"
   ]
  },
  {
   "cell_type": "code",
   "execution_count": null,
   "metadata": {},
   "outputs": [],
   "source": []
  }
 ],
 "metadata": {
  "kernelspec": {
   "display_name": "Python 3",
   "language": "python",
   "name": "python3"
  },
  "language_info": {
   "codemirror_mode": {
    "name": "ipython",
    "version": 3
   },
   "file_extension": ".py",
   "mimetype": "text/x-python",
   "name": "python",
   "nbconvert_exporter": "python",
   "pygments_lexer": "ipython3",
   "version": "3.8.3"
  }
 },
 "nbformat": 4,
 "nbformat_minor": 4
}
